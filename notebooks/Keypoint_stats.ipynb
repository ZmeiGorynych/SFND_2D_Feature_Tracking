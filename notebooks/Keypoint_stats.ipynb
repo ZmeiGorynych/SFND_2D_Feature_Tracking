{
 "cells": [
  {
   "cell_type": "code",
   "execution_count": 16,
   "metadata": {},
   "outputs": [
    {
     "name": "stdout",
     "output_type": "stream",
     "text": [
      "['detector' 'num_keypoints' 'neighb_size_mean' 'neighb_size_var'\n",
      " 'image_num']\n",
      "           num_keypoints  neighb_size_mean  neighb_size_var\n",
      "detector                                                   \n",
      "AKAZE              160.4          7.595978         12.84164\n",
      "BRISK              280.4         21.586940        199.11720\n",
      "FAST               411.8          7.000000          0.00000\n",
      "HARRIS              53.6          4.000000          0.00000\n",
      "ORB                104.4         56.536440        653.84080\n",
      "SHITOMASI          121.2          4.000000          0.00000\n",
      "SIFT               133.2          4.889564         33.43502\n"
     ]
    }
   ],
   "source": [
    "import math\n",
    "\n",
    "import pandas as pd\n",
    "import numpy as np\n",
    "\n",
    "\n",
    "detect_df = pd.read_csv('../detector_stats.csv')\n",
    "print(detect_df.columns.values)\n",
    "agg_detect_df = detect_df.groupby(['detector']).agg({'num_keypoints': np.mean, \n",
    "                                                     'neighb_size_mean': np.mean,\n",
    "                                                    'neighb_size_var': np.mean})\n",
    "print(agg_detect_df)"
   ]
  },
  {
   "cell_type": "code",
   "execution_count": 17,
   "metadata": {},
   "outputs": [
    {
     "data": {
      "image/png": "[encoded data removed]",
      "text/plain": [
       "<Figure size 432x288 with 1 Axes>"
      ]
     },
     "metadata": {},
     "output_type": "display_data"
    }
   ],
   "source": [
    "%matplotlib inline\n",
    "import matplotlib.pyplot as plt\n",
    "\n",
    "plt.figure()\n",
    "plt.scatter(x=agg_detect_df['num_keypoints'], y=agg_detect_df['neighb_size_mean'])\n",
    "plt.xlabel('number of keypoints')\n",
    "plt.ylabel('mean neighborhood size')\n",
    "plt.errorbar(agg_detect_df['num_keypoints'],\n",
    "             agg_detect_df['neighb_size_mean'],\n",
    "             yerr=agg_detect_df['neighb_size_var'].apply(math.sqrt), linestyle=\"None\")\n",
    "\n",
    "for detector in agg_detect_df.index:\n",
    "    plt.annotate(detector, \n",
    "                 (agg_detect_df['num_keypoints'][detector],agg_detect_df['neighb_size_mean'][detector]))"
   ]
  },
  {
   "cell_type": "code",
   "execution_count": 18,
   "metadata": {},
   "outputs": [
    {
     "name": "stdout",
     "output_type": "stream",
     "text": [
      "['SHITOMASI' 'BRISK' '35.8092' '2.22102' '118' '1']\n"
     ]
    }
   ],
   "source": [
    "\n",
    "detect_df = pd.read_csv('../matcher_stats.csv')\n",
    "print(detect_df.columns.values)\n",
    "# agg_detect_df = detect_df.groupby(['detector']).agg({'num_keypoints': np.mean, \n",
    "#                                                      'neighb_size_mean': np.mean,\n",
    "#                                                     'neighb_size_var': np.mean})\n",
    "# print(agg_detect_df)"
   ]
  }
 ],
 "metadata": {
  "kernelspec": {
   "display_name": "Python [conda root]",
   "language": "python",
   "name": "conda-root-py"
  },
  "language_info": {
   "codemirror_mode": {
    "name": "ipython",
    "version": 3
   },
   "file_extension": ".py",
   "mimetype": "text/x-python",
   "name": "python",
   "nbconvert_exporter": "python",
   "pygments_lexer": "ipython3",
   "version": "3.6.5"
  }
 },
 "nbformat": 4,
 "nbformat_minor": 2
}
